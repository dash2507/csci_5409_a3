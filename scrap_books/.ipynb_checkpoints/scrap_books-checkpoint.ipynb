{
 "cells": [
  {
   "cell_type": "code",
   "execution_count": 1,
   "metadata": {},
   "outputs": [],
   "source": [
    "# !conda install -c anaconda beautifulsoup4 requests pymongo -y\n",
    "\n",
    "from bs4 import BeautifulSoup as bs\n",
    "import requests\n",
    "import re\n",
    "from pymongo import MongoClient\n",
    "import time\n",
    "import datetime"
   ]
  },
  {
   "cell_type": "code",
   "execution_count": 2,
   "metadata": {},
   "outputs": [],
   "source": [
    "response = requests.get(\"http://www.gutenberg.org/wiki/Gutenberg:Offline_Catalogs\")"
   ]
  },
  {
   "cell_type": "code",
   "execution_count": 3,
   "metadata": {},
   "outputs": [],
   "source": [
    "html_soup = bs(response.text, 'html.parser')"
   ]
  },
  {
   "cell_type": "code",
   "execution_count": 4,
   "metadata": {},
   "outputs": [],
   "source": [
    "def process_txt(text):\n",
    "    book_list=[]\n",
    "    text = text.encode('utf-8').decode(\"ascii\",\"ignore\")\n",
    "    # pattern fails to match every deatils for very long titles\n",
    "    for match in re.findall(r\"(^(?:[\\w,.-]+\\s)+)\\s+(\\d{5})\\s+((?:\\[.*?\\n*.*?\\])(?:\\s)*)*\",text, re.MULTILINE):\n",
    "        # ignore non english books with [Language: *]\n",
    "        if not re.match(\"\\[Language:\",match[-1].strip()):\n",
    "            book_details = [x.strip() for x in match[0].split(', by')]\n",
    "            # ignore books with no author name\n",
    "            if len(book_details) > 1 and len(book_details) < 3:\n",
    "#                 title, author = book_details\n",
    "                book_list.append(book_details)\n",
    "    return book_list\n",
    "mongoConnectionString=\"\"\"mongodb://csciDarshan:<insertYourPassword>@docdb-2020-03-11-00-58-01.cluster-chnyvyrv3c0z.us-east-1.docdb.amazonaws.com:27017/?ssl=true&ssl_ca_certs=rds-combined-ca-bundle.pem&replicaSet=rs0&readPreference=secondaryPreferred&retryWrites=false\"\"\"\n",
    "\n",
    "\n",
    "def insert_books(file, book_list, start_time, end_time):\n",
    "    client = MongoClient(mongoConnectionString)\n",
    "    booksdb = client[\"gu_books\"]\n",
    "    bookscol = booksdb[\"books\"]\n",
    "    for (title, author) in book_list:\n",
    "        bookscol.insert_one({\"title\":title,\"author\":author})\n",
    "    # store filename , start_time, end_time\n",
    "    booksdb[\"p_time\"].insert_one({\"file\":file_name, \"start\": start_time, \"end\": end_time})\n",
    "#     print(bookscol.inserted_ids)"
   ]
  },
  {
   "cell_type": "code",
   "execution_count": 5,
   "metadata": {},
   "outputs": [
    {
     "name": "stdout",
     "output_type": "stream",
     "text": [
      "GUTINDEX.2020\n"
     ]
    },
    {
     "ename": "InvalidURI",
     "evalue": "Invalid URI scheme: URI must begin with 'mongodb://' or 'mongodb+srv://'",
     "output_type": "error",
     "traceback": [
      "\u001b[0;31m---------------------------------------------------------------------------\u001b[0m",
      "\u001b[0;31mInvalidURI\u001b[0m                                Traceback (most recent call last)",
      "\u001b[0;32m<ipython-input-5-bd431109ede1>\u001b[0m in \u001b[0;36m<module>\u001b[0;34m\u001b[0m\n\u001b[1;32m      7\u001b[0m     \u001b[0mbook_list\u001b[0m \u001b[0;34m=\u001b[0m \u001b[0mprocess_txt\u001b[0m\u001b[0;34m(\u001b[0m\u001b[0mtxt_file\u001b[0m\u001b[0;34m)\u001b[0m\u001b[0;34m\u001b[0m\u001b[0;34m\u001b[0m\u001b[0m\n\u001b[1;32m      8\u001b[0m     \u001b[0mend_time\u001b[0m \u001b[0;34m=\u001b[0m \u001b[0mdatetime\u001b[0m\u001b[0;34m.\u001b[0m\u001b[0mdatetime\u001b[0m\u001b[0;34m.\u001b[0m\u001b[0mnow\u001b[0m\u001b[0;34m(\u001b[0m\u001b[0;34m)\u001b[0m\u001b[0;34m\u001b[0m\u001b[0;34m\u001b[0m\u001b[0m\n\u001b[0;32m----> 9\u001b[0;31m     \u001b[0minsert_books\u001b[0m\u001b[0;34m(\u001b[0m\u001b[0mfile_name\u001b[0m\u001b[0;34m,\u001b[0m \u001b[0mbook_list\u001b[0m\u001b[0;34m,\u001b[0m \u001b[0mstart_time\u001b[0m\u001b[0;34m,\u001b[0m \u001b[0mend_time\u001b[0m\u001b[0;34m)\u001b[0m\u001b[0;34m\u001b[0m\u001b[0;34m\u001b[0m\u001b[0m\n\u001b[0m\u001b[1;32m     10\u001b[0m     \u001b[0mtime\u001b[0m\u001b[0;34m.\u001b[0m\u001b[0msleep\u001b[0m\u001b[0;34m(\u001b[0m\u001b[0;36m300\u001b[0m\u001b[0;34m)\u001b[0m\u001b[0;34m\u001b[0m\u001b[0;34m\u001b[0m\u001b[0m\n",
      "\u001b[0;32m<ipython-input-4-54e541b260ce>\u001b[0m in \u001b[0;36minsert_books\u001b[0;34m(file, book_list, start_time, end_time)\u001b[0m\n\u001b[1;32m     20\u001b[0m \u001b[0;34m\u001b[0m\u001b[0m\n\u001b[1;32m     21\u001b[0m \u001b[0;32mdef\u001b[0m \u001b[0minsert_books\u001b[0m\u001b[0;34m(\u001b[0m\u001b[0mfile\u001b[0m\u001b[0;34m,\u001b[0m \u001b[0mbook_list\u001b[0m\u001b[0;34m,\u001b[0m \u001b[0mstart_time\u001b[0m\u001b[0;34m,\u001b[0m \u001b[0mend_time\u001b[0m\u001b[0;34m)\u001b[0m\u001b[0;34m:\u001b[0m\u001b[0;34m\u001b[0m\u001b[0;34m\u001b[0m\u001b[0m\n\u001b[0;32m---> 22\u001b[0;31m     \u001b[0mclient\u001b[0m \u001b[0;34m=\u001b[0m \u001b[0mMongoClient\u001b[0m\u001b[0;34m(\u001b[0m\u001b[0mmongoConnectionString\u001b[0m\u001b[0;34m)\u001b[0m\u001b[0;34m\u001b[0m\u001b[0;34m\u001b[0m\u001b[0m\n\u001b[0m\u001b[1;32m     23\u001b[0m     \u001b[0mbooksdb\u001b[0m \u001b[0;34m=\u001b[0m \u001b[0mclient\u001b[0m\u001b[0;34m[\u001b[0m\u001b[0;34m\"gu_books\"\u001b[0m\u001b[0;34m]\u001b[0m\u001b[0;34m\u001b[0m\u001b[0;34m\u001b[0m\u001b[0m\n\u001b[1;32m     24\u001b[0m     \u001b[0mbookscol\u001b[0m \u001b[0;34m=\u001b[0m \u001b[0mbooksdb\u001b[0m\u001b[0;34m[\u001b[0m\u001b[0;34m\"books\"\u001b[0m\u001b[0;34m]\u001b[0m\u001b[0;34m\u001b[0m\u001b[0;34m\u001b[0m\u001b[0m\n",
      "\u001b[0;32m~/miniconda3/envs/dash/lib/python3.7/site-packages/pymongo/mongo_client.py\u001b[0m in \u001b[0;36m__init__\u001b[0;34m(self, host, port, document_class, tz_aware, connect, type_registry, **kwargs)\u001b[0m\n\u001b[1;32m    620\u001b[0m                 res = uri_parser.parse_uri(\n\u001b[1;32m    621\u001b[0m                     \u001b[0mentity\u001b[0m\u001b[0;34m,\u001b[0m \u001b[0mport\u001b[0m\u001b[0;34m,\u001b[0m \u001b[0mvalidate\u001b[0m\u001b[0;34m=\u001b[0m\u001b[0;32mTrue\u001b[0m\u001b[0;34m,\u001b[0m \u001b[0mwarn\u001b[0m\u001b[0;34m=\u001b[0m\u001b[0;32mTrue\u001b[0m\u001b[0;34m,\u001b[0m \u001b[0mnormalize\u001b[0m\u001b[0;34m=\u001b[0m\u001b[0;32mFalse\u001b[0m\u001b[0;34m,\u001b[0m\u001b[0;34m\u001b[0m\u001b[0;34m\u001b[0m\u001b[0m\n\u001b[0;32m--> 622\u001b[0;31m                     connect_timeout=timeout)\n\u001b[0m\u001b[1;32m    623\u001b[0m                 \u001b[0mseeds\u001b[0m\u001b[0;34m.\u001b[0m\u001b[0mupdate\u001b[0m\u001b[0;34m(\u001b[0m\u001b[0mres\u001b[0m\u001b[0;34m[\u001b[0m\u001b[0;34m\"nodelist\"\u001b[0m\u001b[0;34m]\u001b[0m\u001b[0;34m)\u001b[0m\u001b[0;34m\u001b[0m\u001b[0;34m\u001b[0m\u001b[0m\n\u001b[1;32m    624\u001b[0m                 \u001b[0musername\u001b[0m \u001b[0;34m=\u001b[0m \u001b[0mres\u001b[0m\u001b[0;34m[\u001b[0m\u001b[0;34m\"username\"\u001b[0m\u001b[0;34m]\u001b[0m \u001b[0;32mor\u001b[0m \u001b[0musername\u001b[0m\u001b[0;34m\u001b[0m\u001b[0;34m\u001b[0m\u001b[0m\n",
      "\u001b[0;32m~/miniconda3/envs/dash/lib/python3.7/site-packages/pymongo/uri_parser.py\u001b[0m in \u001b[0;36mparse_uri\u001b[0;34m(uri, default_port, validate, warn, normalize, connect_timeout)\u001b[0m\n\u001b[1;32m    394\u001b[0m     \u001b[0;32melse\u001b[0m\u001b[0;34m:\u001b[0m\u001b[0;34m\u001b[0m\u001b[0;34m\u001b[0m\u001b[0m\n\u001b[1;32m    395\u001b[0m         raise InvalidURI(\"Invalid URI scheme: URI must \"\n\u001b[0;32m--> 396\u001b[0;31m                          \"begin with '%s' or '%s'\" % (SCHEME, SRV_SCHEME))\n\u001b[0m\u001b[1;32m    397\u001b[0m \u001b[0;34m\u001b[0m\u001b[0m\n\u001b[1;32m    398\u001b[0m     \u001b[0;32mif\u001b[0m \u001b[0;32mnot\u001b[0m \u001b[0mscheme_free\u001b[0m\u001b[0;34m:\u001b[0m\u001b[0;34m\u001b[0m\u001b[0;34m\u001b[0m\u001b[0m\n",
      "\u001b[0;31mInvalidURI\u001b[0m: Invalid URI scheme: URI must begin with 'mongodb://' or 'mongodb+srv://'"
     ]
    }
   ],
   "source": [
    "#mw-content-text > div > ul:nth-child(12)\n",
    "for li in html_soup.select(\"#mw-content-text > div > ul:nth-child(12) li\"):\n",
    "    file_name = li.a[\"href\"].split(\"/\")[-1]\n",
    "    print(file_name)\n",
    "    start_time = datetime.datetime.now()\n",
    "    txt_file = requests.get(\"http:\"+str(li.a[\"href\"])).text\n",
    "    book_list = process_txt(txt_file)\n",
    "    end_time = datetime.datetime.now()\n",
    "    insert_books(file_name, book_list, start_time, end_time)\n",
    "    time.sleep(300)"
   ]
  }
 ],
 "metadata": {
  "kernelspec": {
   "display_name": "Python 3",
   "language": "python",
   "name": "python3"
  },
  "language_info": {
   "codemirror_mode": {
    "name": "ipython",
    "version": 3
   },
   "file_extension": ".py",
   "mimetype": "text/x-python",
   "name": "python",
   "nbconvert_exporter": "python",
   "pygments_lexer": "ipython3",
   "version": "3.7.6"
  }
 },
 "nbformat": 4,
 "nbformat_minor": 4
}
